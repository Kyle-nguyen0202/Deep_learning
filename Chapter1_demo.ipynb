{
  "nbformat": 4,
  "nbformat_minor": 0,
  "metadata": {
    "colab": {
      "provenance": [],
      "authorship_tag": "ABX9TyMNlzCJFBdf9ibj+ROT60Oo",
      "include_colab_link": true
    },
    "kernelspec": {
      "name": "python3",
      "display_name": "Python 3"
    },
    "language_info": {
      "name": "python"
    }
  },
  "cells": [
    {
      "cell_type": "markdown",
      "metadata": {
        "id": "view-in-github",
        "colab_type": "text"
      },
      "source": [
        "<a href=\"https://colab.research.google.com/github/Kyle-nguyen0202/Deep_learning/blob/main/Chapter1_demo.ipynb\" target=\"_parent\"><img src=\"https://colab.research.google.com/assets/colab-badge.svg\" alt=\"Open In Colab\"/></a>"
      ]
    },
    {
      "cell_type": "code",
      "execution_count": null,
      "metadata": {
        "colab": {
          "base_uri": "https://localhost:8080/"
        },
        "id": "6pjaSHE4kysq",
        "outputId": "44d4bacd-08a1-40b2-b9d3-71c55dd48ff3"
      },
      "outputs": [
        {
          "output_type": "stream",
          "name": "stdout",
          "text": [
            "2.18.0\n"
          ]
        }
      ],
      "source": [
        "import tensorflow as tf\n",
        "print(tf.__version__)"
      ]
    },
    {
      "cell_type": "code",
      "source": [
        "msg = tf.constant('Hello, TensorFlow!')\n",
        "tf.print(msg)"
      ],
      "metadata": {
        "colab": {
          "base_uri": "https://localhost:8080/"
        },
        "id": "kcVrjNA2lX9S",
        "outputId": "883f9d71-2af3-441c-a6c9-3a48d44c347c"
      },
      "execution_count": null,
      "outputs": [
        {
          "output_type": "stream",
          "name": "stdout",
          "text": [
            "Hello, TensorFlow!\n"
          ]
        }
      ]
    },
    {
      "cell_type": "code",
      "source": [
        "#Initialize two constants\n",
        "x1 = tf.constant([1, 2, 3, 4])\n",
        "x2 = tf.constant([5, 6, 7, 8])\n",
        "# Multiply\n",
        "result = tf.multiply(x1,x2)"
      ],
      "metadata": {
        "id": "PdNsO6UpmAP4"
      },
      "execution_count": null,
      "outputs": []
    },
    {
      "cell_type": "code",
      "source": [
        "result"
      ],
      "metadata": {
        "colab": {
          "base_uri": "https://localhost:8080/"
        },
        "id": "vaRIdqE0mvI1",
        "outputId": "45367f78-2584-46a4-ae37-e2290cac787d"
      },
      "execution_count": null,
      "outputs": [
        {
          "output_type": "execute_result",
          "data": {
            "text/plain": [
              "<tf.Tensor: shape=(4,), dtype=int32, numpy=array([ 5, 12, 21, 32], dtype=int32)>"
            ]
          },
          "metadata": {},
          "execution_count": 16
        }
      ]
    },
    {
      "cell_type": "code",
      "source": [
        "tf.print(result)"
      ],
      "metadata": {
        "colab": {
          "base_uri": "https://localhost:8080/"
        },
        "id": "5EBy94tjm1Uy",
        "outputId": "f2003480-7554-4fc5-eee3-9bde4605bc0c"
      },
      "execution_count": null,
      "outputs": [
        {
          "output_type": "stream",
          "name": "stdout",
          "text": [
            "[5 12 21 32]\n"
          ]
        }
      ]
    },
    {
      "cell_type": "code",
      "source": [
        "# 1D Tensor\n",
        "d1 = tf.ones((2,))\n",
        "tf.print(d1)"
      ],
      "metadata": {
        "colab": {
          "base_uri": "https://localhost:8080/"
        },
        "id": "oH_3ayD5np-b",
        "outputId": "5770cdbe-e029-41f6-aa2f-7bda2f59039e"
      },
      "execution_count": null,
      "outputs": [
        {
          "output_type": "stream",
          "name": "stdout",
          "text": [
            "[1 1]\n"
          ]
        }
      ]
    },
    {
      "cell_type": "code",
      "source": [
        "# 2D Tensor\n",
        "d2 = tf.ones((2,2))\n",
        "tf.print(d2)"
      ],
      "metadata": {
        "colab": {
          "base_uri": "https://localhost:8080/"
        },
        "id": "khP5kB_kn5ap",
        "outputId": "17676129-c62e-4b95-b8e4-f87313454f9e"
      },
      "execution_count": null,
      "outputs": [
        {
          "output_type": "stream",
          "name": "stdout",
          "text": [
            "[[1 1]\n",
            " [1 1]]\n"
          ]
        }
      ]
    },
    {
      "cell_type": "code",
      "source": [
        "# 3D Tensor\n",
        "d3 = tf.ones((2,2,2))\n",
        "tf.print(d3)"
      ],
      "metadata": {
        "colab": {
          "base_uri": "https://localhost:8080/"
        },
        "id": "-kx1_ugWn5eB",
        "outputId": "1ca185ba-8b85-403d-9c84-2b881cc6c1e4"
      },
      "execution_count": null,
      "outputs": [
        {
          "output_type": "stream",
          "name": "stdout",
          "text": [
            "[[[1 1]\n",
            "  [1 1]]\n",
            "\n",
            " [[1 1]\n",
            "  [1 1]]]\n"
          ]
        }
      ]
    },
    {
      "cell_type": "code",
      "source": [
        "# Constant\n",
        "a = tf.constant(5.3, name = 'a', dtype=tf.float32)\n",
        "tf.print('a =\\n',a)"
      ],
      "metadata": {
        "colab": {
          "base_uri": "https://localhost:8080/"
        },
        "id": "UXO7pXvjqZZF",
        "outputId": "bcb86417-2fe5-478e-8efe-53723279b00d"
      },
      "execution_count": null,
      "outputs": [
        {
          "output_type": "stream",
          "name": "stdout",
          "text": [
            "a =\n",
            " 5.3\n"
          ]
        }
      ]
    },
    {
      "cell_type": "code",
      "source": [
        "b = tf.constant(3, shape=[2,3])\n",
        "tf.print('b =\\n',b)"
      ],
      "metadata": {
        "colab": {
          "base_uri": "https://localhost:8080/"
        },
        "id": "PFvBLGcwrNBa",
        "outputId": "2cba54bf-4d55-4b57-b14f-87e9fa007983"
      },
      "execution_count": null,
      "outputs": [
        {
          "output_type": "stream",
          "name": "stdout",
          "text": [
            "b =\n",
            " [[3 3 3]\n",
            " [3 3 3]]\n"
          ]
        }
      ]
    },
    {
      "cell_type": "code",
      "source": [
        "c = tf.constant([1,2,3,4], shape = [2,2])\n",
        "tf.print('c =\\n',c)"
      ],
      "metadata": {
        "colab": {
          "base_uri": "https://localhost:8080/"
        },
        "id": "4dMfcbburNDf",
        "outputId": "a7aedc1e-14aa-4bdc-cb78-2344704a412e"
      },
      "execution_count": null,
      "outputs": [
        {
          "output_type": "stream",
          "name": "stdout",
          "text": [
            "c =\n",
            " [[1 2]\n",
            " [3 4]]\n"
          ]
        }
      ]
    },
    {
      "cell_type": "code",
      "source": [
        "d = tf.fill([3,3],7)\n",
        "tf.print('d =\\n',d)"
      ],
      "metadata": {
        "colab": {
          "base_uri": "https://localhost:8080/"
        },
        "id": "YwifWhAmrNFo",
        "outputId": "8fde1303-1b03-4763-8d72-9484efd749ed"
      },
      "execution_count": null,
      "outputs": [
        {
          "output_type": "stream",
          "name": "stdout",
          "text": [
            "d =\n",
            " [[7 7 7]\n",
            " [7 7 7]\n",
            " [7 7 7]]\n"
          ]
        }
      ]
    },
    {
      "cell_type": "code",
      "source": [
        "e = tf.ones([2,2])\n",
        "tf.print('e =\\n',e)"
      ],
      "metadata": {
        "colab": {
          "base_uri": "https://localhost:8080/"
        },
        "id": "WKHG6OlXrNHt",
        "outputId": "755406ec-e787-4fb3-add7-a0767c0165a4"
      },
      "execution_count": null,
      "outputs": [
        {
          "output_type": "stream",
          "name": "stdout",
          "text": [
            "e =\n",
            " [[1 1]\n",
            " [1 1]]\n"
          ]
        }
      ]
    },
    {
      "cell_type": "code",
      "source": [
        "f = tf.zeros_like(c)\n",
        "tf.print('f =\\n',f)"
      ],
      "metadata": {
        "colab": {
          "base_uri": "https://localhost:8080/"
        },
        "id": "8-zvDRrxrNJs",
        "outputId": "c53d02d5-1b18-41a8-a7fa-5a19422c6ce5"
      },
      "execution_count": null,
      "outputs": [
        {
          "output_type": "stream",
          "name": "stdout",
          "text": [
            "f =\n",
            " [[0 0]\n",
            " [0 0]]\n"
          ]
        }
      ]
    },
    {
      "cell_type": "code",
      "source": [
        "# Variables\n",
        "a0 = tf.Variable([1,2,3,4], dtype = tf.float32)\n",
        "a1 = tf.Variable([5,6,7,8], dtype = tf.float32)"
      ],
      "metadata": {
        "id": "2JGfNJytrNLw"
      },
      "execution_count": null,
      "outputs": []
    },
    {
      "cell_type": "code",
      "source": [
        "c0 = tf.multiply(a0,a1)\n",
        "tf.print(c0)"
      ],
      "metadata": {
        "colab": {
          "base_uri": "https://localhost:8080/"
        },
        "id": "tMTsuJjzrNRA",
        "outputId": "7ef44fac-a70c-4240-91e6-ac0330db96b6"
      },
      "execution_count": null,
      "outputs": [
        {
          "output_type": "stream",
          "name": "stdout",
          "text": [
            "[5 12 21 32]\n"
          ]
        }
      ]
    },
    {
      "cell_type": "code",
      "source": [
        "c1=a0*a1\n",
        "tf.print(c1)"
      ],
      "metadata": {
        "colab": {
          "base_uri": "https://localhost:8080/"
        },
        "id": "cEvhLWq2t9r6",
        "outputId": "63ff6511-be1c-4204-91d4-8cb73a31f3d3"
      },
      "execution_count": null,
      "outputs": [
        {
          "output_type": "stream",
          "name": "stdout",
          "text": [
            "[5 12 21 32]\n"
          ]
        }
      ]
    },
    {
      "cell_type": "code",
      "source": [
        "# Operators\n",
        "a0 = tf.Variable([1,2,3,4], dtype = tf.float32)\n",
        "a1 = tf.Variable([5,6,7,8], dtype = tf.float32)"
      ],
      "metadata": {
        "id": "rcUEo8MYuEMH"
      },
      "execution_count": null,
      "outputs": []
    },
    {
      "cell_type": "code",
      "source": [
        "sum1 = tf.add(a0,a1)\n",
        "tf.print(sum1)"
      ],
      "metadata": {
        "colab": {
          "base_uri": "https://localhost:8080/"
        },
        "id": "B3Whz2rd2elp",
        "outputId": "d76732cd-3131-4d22-fc11-78a32cb4f92d"
      },
      "execution_count": null,
      "outputs": [
        {
          "output_type": "stream",
          "name": "stdout",
          "text": [
            "[6 8 10 12]\n"
          ]
        }
      ]
    },
    {
      "cell_type": "code",
      "source": [
        "diff = tf.subtract(a0,a1)\n",
        "tf.print(diff)"
      ],
      "metadata": {
        "colab": {
          "base_uri": "https://localhost:8080/"
        },
        "id": "UM3uw-up2eni",
        "outputId": "81364540-c722-46a7-b1a3-794cecffb7c3"
      },
      "execution_count": null,
      "outputs": [
        {
          "output_type": "stream",
          "name": "stdout",
          "text": [
            "[-4 -4 -4 -4]\n"
          ]
        }
      ]
    },
    {
      "cell_type": "code",
      "source": [
        "prod = tf.multiply(a0,a1)\n",
        "tf.print(a0,a1)"
      ],
      "metadata": {
        "colab": {
          "base_uri": "https://localhost:8080/"
        },
        "id": "qjfBlmMr2epm",
        "outputId": "ec700a78-a236-401e-bf8c-4e251ffee85d"
      },
      "execution_count": null,
      "outputs": [
        {
          "output_type": "stream",
          "name": "stdout",
          "text": [
            "[1 2 3 4] [5 6 7 8]\n"
          ]
        }
      ]
    },
    {
      "cell_type": "code",
      "source": [
        "quot = tf.divide(a0,a1)\n",
        "tf.print(quot)"
      ],
      "metadata": {
        "colab": {
          "base_uri": "https://localhost:8080/"
        },
        "id": "hdtD1TWF2er0",
        "outputId": "309378a6-4d3a-4d48-a52d-8e702bac4b7a"
      },
      "execution_count": null,
      "outputs": [
        {
          "output_type": "stream",
          "name": "stdout",
          "text": [
            "[0.2 0.333333343 0.428571433 0.5]\n"
          ]
        }
      ]
    },
    {
      "cell_type": "code",
      "source": [
        "x = tf.constant([[-2.25, 4.75],[-3.25, 5.75]])\n",
        "abs1 = tf.abs(x)\n",
        "tf.print('Abs:',abs1)"
      ],
      "metadata": {
        "colab": {
          "base_uri": "https://localhost:8080/"
        },
        "id": "3Yz9yrj02etq",
        "outputId": "1d608038-034a-4551-d7e1-d3b14f8af848"
      },
      "execution_count": null,
      "outputs": [
        {
          "output_type": "stream",
          "name": "stdout",
          "text": [
            "Abs: [[2.25 4.75]\n",
            " [3.25 5.75]]\n"
          ]
        }
      ]
    },
    {
      "cell_type": "code",
      "source": [
        "A = tf.constant([4], tf.int32, name='A')\n",
        "B = tf.constant([4], tf.int32, name='B')\n",
        "C = tf.constant([4], tf.int32, name='C')\n",
        "y1=tf.add_n([A,B,C], name='y1')\n",
        "tf.print('Add n: ', y1)"
      ],
      "metadata": {
        "colab": {
          "base_uri": "https://localhost:8080/"
        },
        "id": "aEZ8RQDl2exI",
        "outputId": "9d01a5d4-587f-4cb1-b6c1-5f3e41fe2e87"
      },
      "execution_count": null,
      "outputs": [
        {
          "output_type": "stream",
          "name": "stdout",
          "text": [
            "Add n:  [12]\n"
          ]
        }
      ]
    },
    {
      "cell_type": "code",
      "source": [
        "cons1 = tf.constant([1,2])\n",
        "y = tf.scalar_mul(3, cons1)\n",
        "tf.print('Scalar Mul: ', y)"
      ],
      "metadata": {
        "colab": {
          "base_uri": "https://localhost:8080/"
        },
        "id": "OxCmEhHa4NEd",
        "outputId": "4e4c698b-9889-45fc-cf96-ffac9f7e5be4"
      },
      "execution_count": null,
      "outputs": [
        {
          "output_type": "stream",
          "name": "stdout",
          "text": [
            "Scalar Mul:  [3 6]\n"
          ]
        }
      ]
    },
    {
      "cell_type": "code",
      "source": [
        "a = tf.constant([4,4,4])\n",
        "add_n=tf.add_n([a,a,a])\n",
        "tf.print('Add_n: ', add_n)"
      ],
      "metadata": {
        "colab": {
          "base_uri": "https://localhost:8080/"
        },
        "id": "kdFApAnN4NGz",
        "outputId": "5c5063fb-5d4b-4600-ed54-68433d060a91"
      },
      "execution_count": null,
      "outputs": [
        {
          "output_type": "stream",
          "name": "stdout",
          "text": [
            "Add_n:  [12 12 12]\n"
          ]
        }
      ]
    },
    {
      "cell_type": "code",
      "source": [
        "neg = tf.negative(a)\n",
        "tf.print('Negative: ', neg)\n"
      ],
      "metadata": {
        "colab": {
          "base_uri": "https://localhost:8080/"
        },
        "id": "Ezrx-W4d4NLC",
        "outputId": "6158a479-96aa-46b1-ce36-332e264e1b7d"
      },
      "execution_count": null,
      "outputs": [
        {
          "output_type": "stream",
          "name": "stdout",
          "text": [
            "Negative:  [-4 -4 -4]\n"
          ]
        }
      ]
    },
    {
      "cell_type": "code",
      "source": [],
      "metadata": {
        "id": "eBXd_PC-4NOg"
      },
      "execution_count": null,
      "outputs": []
    }
  ]
}